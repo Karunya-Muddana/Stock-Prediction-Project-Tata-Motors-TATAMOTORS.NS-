{
 "cells": [
  {
   "cell_type": "code",
   "execution_count": null,
   "id": "e72cab78",
   "metadata": {},
   "outputs": [],
   "source": [
    "import yfinance as yf\n",
    "\n",
    "ticker = \"TATAMOTORS.NS\"\n",
    "\n",
    "\n",
    "data = yf.download(ticker, start=\"2020-01-01\", end=\"2025-01-01\")\n",
    "\n"
   ]
  },
  {
   "cell_type": "code",
   "execution_count": null,
   "id": "4c93ca7b",
   "metadata": {},
   "outputs": [],
   "source": [
    "import numpy as np\n",
    "import pandas as pd\n",
    "\n",
    "\n",
    "if isinstance(data.columns, pd.MultiIndex):\n",
    "    data.columns = [col[0] if isinstance(col, tuple) else col for col in data.columns]\n",
    "\n",
    "if \"Close\" not in data.columns and \"Adj Close\" in data.columns:\n",
    "    data[\"Close\"] = data[\"Adj Close\"]\n",
    "\n",
    "if \"Volume\" not in data.columns:\n",
    "    raise KeyError(\"No 'Volume' column found in data. Make sure you downloaded OHLCV data.\")\n",
    "\n",
    "\n",
    "for c in [\"Open\", \"High\", \"Low\", \"Close\", \"Adj Close\", \"Volume\"]:\n",
    "    if c in data.columns:\n",
    "        data[c] = pd.to_numeric(data[c], errors=\"coerce\")\n",
    "\n",
    "\n",
    "data[\"returns\"] = data[\"Close\"].pct_change()\n",
    "\n",
    "data[\"MA5\"] = data[\"Close\"].rolling(window=5).mean()\n",
    "data[\"MA20\"] = data[\"Close\"].rolling(window=20).mean()\n",
    "data[\"MA50\"] = data[\"Close\"].rolling(window=50).mean()\n",
    "\n",
    "delta = data[\"Close\"].diff()\n",
    "gain = delta.clip(lower=0)\n",
    "loss = -delta.clip(upper=0)\n",
    "\n",
    "avg_gain = gain.rolling(14).mean()\n",
    "avg_loss = loss.rolling(14).mean()\n",
    "\n",
    "\n",
    "rs = avg_gain / avg_loss.replace(0, np.nan)\n",
    "data[\"RSI\"] = 100 - (100 / (1 + rs))\n",
    "\n",
    "\n",
    "data[\"Volume_Change\"] = data[\"Volume\"].pct_change()\n",
    "\n",
    "\n",
    "data[\"Target\"] = (data[\"Close\"].shift(-5) > data[\"Close\"]).astype(int)\n",
    "\n",
    "\n",
    "data[\"Return_lag1\"] = data[\"returns\"].shift(1)\n",
    "data[\"Return_lag2\"] = data[\"returns\"].shift(2)\n",
    "data[\"Return_lag5\"] = data[\"returns\"].shift(5)\n",
    "\n",
    "\n",
    "data[\"Volatility_5\"]  = data[\"returns\"].rolling(window=5).std()\n",
    "data[\"Volatility_10\"] = data[\"returns\"].rolling(window=10).std()\n",
    "data[\"Volatility_20\"] = data[\"returns\"].rolling(window=20).std()\n",
    "\n",
    "\n",
    "ma20 = data[\"Close\"].rolling(20).mean()\n",
    "std20 = data[\"Close\"].rolling(20).std()\n",
    "data[\"Bollinger_Upper\"] = ma20 + 2 * std20\n",
    "data[\"Bollinger_Lower\"] = ma20 - 2 * std20\n",
    "data[\"Bollinger_Width\"] = (data[\"Bollinger_Upper\"] - data[\"Bollinger_Lower\"]) / ma20.replace(0, np.nan)\n",
    "\n",
    "\n",
    "ema12 = data[\"Close\"].ewm(span=12, adjust=False).mean()\n",
    "ema26 = data[\"Close\"].ewm(span=26, adjust=False).mean()\n",
    "data[\"MACD\"] = ema12 - ema26\n",
    "data[\"MACD_Signal\"] = data[\"MACD\"].ewm(span=9, adjust=False).mean()\n",
    "\n",
    "\n",
    "data = data.dropna().copy()\n"
   ]
  },
  {
   "cell_type": "markdown",
   "id": "8f4702e7",
   "metadata": {},
   "source": [
    "-- DATA PROCESSING --"
   ]
  },
  {
   "cell_type": "code",
   "execution_count": null,
   "id": "96086760",
   "metadata": {},
   "outputs": [],
   "source": [
    "from tabulate import tabulate\n",
    "\n",
    "print(tabulate(data.head(), headers=\"keys\", tablefmt=\"psql\"))"
   ]
  },
  {
   "cell_type": "markdown",
   "id": "f1750bbf",
   "metadata": {},
   "source": [
    "-- X AND Y SPLITING --"
   ]
  },
  {
   "cell_type": "code",
   "execution_count": null,
   "id": "f6251649",
   "metadata": {},
   "outputs": [],
   "source": [
    "import matplotlib.pyplot as plt\n",
    "\n",
    "\n",
    "X = data[[\n",
    "    \"returns\", \"MA5\", \"MA20\", \"MA50\",\n",
    "    \"RSI\", \"Volume_Change\",\n",
    "    \"Return_lag1\", \"Return_lag2\", \"Return_lag5\",\n",
    "    \"Volatility_5\", \"Volatility_10\", \"Volatility_20\",\n",
    "    \"Bollinger_Width\",   # keep width, drop upper/lower\n",
    "    \"MACD\"               # keep MACD, drop MACD_Signal\n",
    "]].copy()\n",
    "\n",
    "y = data[\"Target\"].copy()\n",
    "\n",
    "corr = X.corr()\n",
    "\n",
    "plt.figure(figsize=(10, 8))\n",
    "im = plt.imshow(corr.values, aspect='auto')\n",
    "plt.colorbar(im)\n",
    "cols = corr.columns.tolist()\n",
    "plt.xticks(range(len(cols)), cols, rotation=90)\n",
    "plt.yticks(range(len(cols)), cols)\n",
    "plt.title(\"Feature Correlation Heatmap\")\n",
    "plt.tight_layout()\n",
    "plt.show()\n"
   ]
  },
  {
   "cell_type": "code",
   "execution_count": null,
   "id": "c1e7a527",
   "metadata": {},
   "outputs": [],
   "source": [
    "import matplotlib.pyplot as plt\n",
    "\n",
    "\n",
    "features = X.columns.tolist()\n",
    "\n",
    "plt.figure(figsize=(14, 10))\n",
    "\n",
    "\n",
    "for i, col in enumerate(features, 1):\n",
    "    plt.subplot(len(features)+1, 1, i)   # +1 for Target (y)\n",
    "    plt.plot(data.index, X[col], label=col)\n",
    "    plt.title(col, fontsize=10)\n",
    "    plt.grid(True)\n",
    "\n",
    "\n",
    "plt.subplot(len(features)+1, 1, len(features)+1)\n",
    "plt.plot(data.index, y, label=\"Target (Up=1, Down=0)\", color=\"red\")\n",
    "plt.title(\"Target\", fontsize=10)\n",
    "plt.grid(True)\n",
    "\n",
    "plt.tight_layout()\n",
    "plt.show()\n"
   ]
  },
  {
   "cell_type": "markdown",
   "id": "afdf6a96",
   "metadata": {},
   "source": [
    "-- ML ALGORITHM --"
   ]
  },
  {
   "cell_type": "code",
   "execution_count": null,
   "id": "6be64aec",
   "metadata": {},
   "outputs": [],
   "source": [
    "from sklearn.model_selection import train_test_split\n",
    "\n",
    "X_train, X_test, y_train, y_test = train_test_split(\n",
    "    X, y, test_size=0.2, shuffle=False\n",
    ")\n",
    "\n",
    "print(\"Train size:\", X_train.shape)\n",
    "print(\"Test size:\", X_test.shape)\n"
   ]
  },
  {
   "cell_type": "code",
   "execution_count": null,
   "id": "df05caf3",
   "metadata": {},
   "outputs": [],
   "source": [
    "from xgboost import XGBClassifier\n",
    "from sklearn.metrics import accuracy_score\n",
    "\n",
    "# Create model\n",
    "xgb = XGBClassifier(\n",
    "    n_estimators=100,\n",
    "    max_depth=3,          # shallower trees\n",
    "    learning_rate=0.1,    # faster learning\n",
    "    subsample=0.8,\n",
    "    colsample_bytree=0.8,\n",
    "    random_state=42,\n",
    "    use_label_encoder=False,\n",
    "    eval_metric=\"logloss\"\n",
    ")\n",
    "\n",
    "\n",
    "# Train\n",
    "xgb.fit(X_train, y_train)\n",
    "\n",
    "# Predict\n",
    "y_pred = xgb.predict(X_test)\n",
    "\n",
    "# Accuracy\n",
    "print(\"XGBoost Accuracy:\", accuracy_score(y_test, y_pred))\n"
   ]
  },
  {
   "cell_type": "code",
   "execution_count": null,
   "id": "35956a86",
   "metadata": {},
   "outputs": [],
   "source": []
  },
  {
   "cell_type": "code",
   "execution_count": null,
   "id": "c3289ecf",
   "metadata": {},
   "outputs": [],
   "source": []
  }
 ],
 "metadata": {
  "kernelspec": {
   "display_name": "Python 3",
   "language": "python",
   "name": "python3"
  },
  "language_info": {
   "codemirror_mode": {
    "name": "ipython",
    "version": 3
   },
   "file_extension": ".py",
   "mimetype": "text/x-python",
   "name": "python",
   "nbconvert_exporter": "python",
   "pygments_lexer": "ipython3",
   "version": "3.13.5"
  }
 },
 "nbformat": 4,
 "nbformat_minor": 5
}
